{
  "nbformat": 4,
  "nbformat_minor": 0,
  "metadata": {
    "colab": {
      "name": "heart-failure-prediction.ipynb",
      "provenance": [],
      "collapsed_sections": [],
      "toc_visible": true,
      "authorship_tag": "ABX9TyOlOrcLDtNs3/tHUCPMlYd0",
      "include_colab_link": true
    },
    "kernelspec": {
      "name": "python3",
      "display_name": "Python 3"
    },
    "language_info": {
      "name": "python"
    }
  },
  "cells": [
    {
      "cell_type": "markdown",
      "metadata": {
        "id": "view-in-github",
        "colab_type": "text"
      },
      "source": [
        "<a href=\"https://colab.research.google.com/github/nmk1406/nmk1406/blob/master/heart_failure_prediction.ipynb\" target=\"_parent\"><img src=\"https://colab.research.google.com/assets/colab-badge.svg\" alt=\"Open In Colab\"/></a>"
      ]
    },
    {
      "cell_type": "markdown",
      "source": [
        "# **Heart Failure Prediction**"
      ],
      "metadata": {
        "id": "qQFJAeIB4yHr"
      }
    },
    {
      "cell_type": "markdown",
      "source": [
        "**Author:** Nguyen Minh Khoa\n",
        "\n",
        "**Email:** nmk14062001@gmail.com"
      ],
      "metadata": {
        "id": "yWbOVxZ_6_F9"
      }
    },
    {
      "cell_type": "code",
      "source": [
        "import pandas as pd\n",
        "import numpy as np\n",
        "import matplotlib.pyplot as plt\n",
        "import seaborn as sns\n",
        "\n",
        "from sklearn.ensemble import RandomForestClassifier\n",
        "from sklearn.linear_model import LogisticRegression\n",
        "\n",
        "from sklearn.model_selection import train_test_split, GridSearchCV\n",
        "\n",
        "from sklearn.pipeline import Pipeline\n",
        "from sklearn.preprocessing import OneHotEncoder, StandardScaler, MinMaxScaler\n",
        "from sklearn.compose import ColumnTransformer\n",
        "\n",
        "from sklearn.metrics import f1_score, confusion_matrix, classification_report\n",
        "\n",
        "import warnings\n",
        "warnings.simplefilter(action='ignore', category=FutureWarning)"
      ],
      "metadata": {
        "id": "4nnUiDSK3QhM"
      },
      "execution_count": 1,
      "outputs": []
    },
    {
      "cell_type": "markdown",
      "source": [
        "## **P1: Giới thiệu**\n",
        "Trong project này, tôi sử dụng Random Forest và Logistic Regression để dự đoán những người có nguy cơ suy tim.\n",
        "\n",
        "**Thông tin dataset**\n",
        "\n",
        "[Heart Failure Prediction Dataset](https://www.kaggle.com/datasets/fedesoriano/heart-failure-prediction) là bộ dữ liệu được khảo sát trên 918 người khác nhau. Với mục tiêu là dựa vào dữ liệu của những người này để dự đoán họ có bị suy tim hay không. Bộ dữ liệu gồm 11 biến đầu vào như sau:\n",
        "\n",
        "- Age: tuổi của bệnh nhân.\n",
        "- Sex: giới tính của bệnh nhân.\n",
        "- ChestPainType: kiểu đau ngực.\n",
        "- RestingBP: huyết áp (mm/Hg).\n",
        "- Cholesterol: nồng độ cholesterol (mm/dl).\n",
        "- FastingBS: lượng đường trong máu (mg/dl).\n",
        "- RestingECG: kết quả điện tâm đồ lúc nghỉ.\n",
        "- MaxHR: nhịp tim tối đa đạt được.\n",
        "- ExerciseAngina: đau thắt ngực do tập thể dục.\n",
        "- Oldpeak: đoạn ST trong kết quả điện tâm đồ.\n",
        "- ST_Slope: độ dốc đoạn ST khi tập thể dục.\n",
        "\n",
        "Biến mục tiêu là HeartDisease với 0 (bình thường) và 1 (suy tim). Bình thường là negative class và suy tim là positive class."
      ],
      "metadata": {
        "id": "ur3RIHem5aAq"
      }
    },
    {
      "cell_type": "markdown",
      "source": [
        "## **P2: EDA**\n",
        "Load dữ liệu."
      ],
      "metadata": {
        "id": "PAy-5Um_9uMa"
      }
    },
    {
      "cell_type": "code",
      "source": [
        "df = pd.read_csv(\"/content/heart.csv\")"
      ],
      "metadata": {
        "id": "_TLOQvDj3X2p"
      },
      "execution_count": 2,
      "outputs": []
    },
    {
      "cell_type": "markdown",
      "source": [
        "Kiểm tra tập dữ liệu."
      ],
      "metadata": {
        "id": "ghiFJRiY-NAH"
      }
    },
    {
      "cell_type": "code",
      "source": [
        "df.head()"
      ],
      "metadata": {
        "colab": {
          "base_uri": "https://localhost:8080/",
          "height": 206
        },
        "id": "JE2TtAbB4uop",
        "outputId": "50550415-2dea-418a-9ede-9066704ed645"
      },
      "execution_count": 3,
      "outputs": [
        {
          "output_type": "execute_result",
          "data": {
            "text/plain": [
              "   Age Sex ChestPainType  RestingBP  Cholesterol  FastingBS RestingECG  MaxHR  \\\n",
              "0   40   M           ATA        140          289          0     Normal    172   \n",
              "1   49   F           NAP        160          180          0     Normal    156   \n",
              "2   37   M           ATA        130          283          0         ST     98   \n",
              "3   48   F           ASY        138          214          0     Normal    108   \n",
              "4   54   M           NAP        150          195          0     Normal    122   \n",
              "\n",
              "  ExerciseAngina  Oldpeak ST_Slope  HeartDisease  \n",
              "0              N      0.0       Up             0  \n",
              "1              N      1.0     Flat             1  \n",
              "2              N      0.0       Up             0  \n",
              "3              Y      1.5     Flat             1  \n",
              "4              N      0.0       Up             0  "
            ],
            "text/html": [
              "\n",
              "  <div id=\"df-c5923072-0e28-40a5-ada2-8a06b1fb6ef4\">\n",
              "    <div class=\"colab-df-container\">\n",
              "      <div>\n",
              "<style scoped>\n",
              "    .dataframe tbody tr th:only-of-type {\n",
              "        vertical-align: middle;\n",
              "    }\n",
              "\n",
              "    .dataframe tbody tr th {\n",
              "        vertical-align: top;\n",
              "    }\n",
              "\n",
              "    .dataframe thead th {\n",
              "        text-align: right;\n",
              "    }\n",
              "</style>\n",
              "<table border=\"1\" class=\"dataframe\">\n",
              "  <thead>\n",
              "    <tr style=\"text-align: right;\">\n",
              "      <th></th>\n",
              "      <th>Age</th>\n",
              "      <th>Sex</th>\n",
              "      <th>ChestPainType</th>\n",
              "      <th>RestingBP</th>\n",
              "      <th>Cholesterol</th>\n",
              "      <th>FastingBS</th>\n",
              "      <th>RestingECG</th>\n",
              "      <th>MaxHR</th>\n",
              "      <th>ExerciseAngina</th>\n",
              "      <th>Oldpeak</th>\n",
              "      <th>ST_Slope</th>\n",
              "      <th>HeartDisease</th>\n",
              "    </tr>\n",
              "  </thead>\n",
              "  <tbody>\n",
              "    <tr>\n",
              "      <th>0</th>\n",
              "      <td>40</td>\n",
              "      <td>M</td>\n",
              "      <td>ATA</td>\n",
              "      <td>140</td>\n",
              "      <td>289</td>\n",
              "      <td>0</td>\n",
              "      <td>Normal</td>\n",
              "      <td>172</td>\n",
              "      <td>N</td>\n",
              "      <td>0.0</td>\n",
              "      <td>Up</td>\n",
              "      <td>0</td>\n",
              "    </tr>\n",
              "    <tr>\n",
              "      <th>1</th>\n",
              "      <td>49</td>\n",
              "      <td>F</td>\n",
              "      <td>NAP</td>\n",
              "      <td>160</td>\n",
              "      <td>180</td>\n",
              "      <td>0</td>\n",
              "      <td>Normal</td>\n",
              "      <td>156</td>\n",
              "      <td>N</td>\n",
              "      <td>1.0</td>\n",
              "      <td>Flat</td>\n",
              "      <td>1</td>\n",
              "    </tr>\n",
              "    <tr>\n",
              "      <th>2</th>\n",
              "      <td>37</td>\n",
              "      <td>M</td>\n",
              "      <td>ATA</td>\n",
              "      <td>130</td>\n",
              "      <td>283</td>\n",
              "      <td>0</td>\n",
              "      <td>ST</td>\n",
              "      <td>98</td>\n",
              "      <td>N</td>\n",
              "      <td>0.0</td>\n",
              "      <td>Up</td>\n",
              "      <td>0</td>\n",
              "    </tr>\n",
              "    <tr>\n",
              "      <th>3</th>\n",
              "      <td>48</td>\n",
              "      <td>F</td>\n",
              "      <td>ASY</td>\n",
              "      <td>138</td>\n",
              "      <td>214</td>\n",
              "      <td>0</td>\n",
              "      <td>Normal</td>\n",
              "      <td>108</td>\n",
              "      <td>Y</td>\n",
              "      <td>1.5</td>\n",
              "      <td>Flat</td>\n",
              "      <td>1</td>\n",
              "    </tr>\n",
              "    <tr>\n",
              "      <th>4</th>\n",
              "      <td>54</td>\n",
              "      <td>M</td>\n",
              "      <td>NAP</td>\n",
              "      <td>150</td>\n",
              "      <td>195</td>\n",
              "      <td>0</td>\n",
              "      <td>Normal</td>\n",
              "      <td>122</td>\n",
              "      <td>N</td>\n",
              "      <td>0.0</td>\n",
              "      <td>Up</td>\n",
              "      <td>0</td>\n",
              "    </tr>\n",
              "  </tbody>\n",
              "</table>\n",
              "</div>\n",
              "      <button class=\"colab-df-convert\" onclick=\"convertToInteractive('df-c5923072-0e28-40a5-ada2-8a06b1fb6ef4')\"\n",
              "              title=\"Convert this dataframe to an interactive table.\"\n",
              "              style=\"display:none;\">\n",
              "        \n",
              "  <svg xmlns=\"http://www.w3.org/2000/svg\" height=\"24px\"viewBox=\"0 0 24 24\"\n",
              "       width=\"24px\">\n",
              "    <path d=\"M0 0h24v24H0V0z\" fill=\"none\"/>\n",
              "    <path d=\"M18.56 5.44l.94 2.06.94-2.06 2.06-.94-2.06-.94-.94-2.06-.94 2.06-2.06.94zm-11 1L8.5 8.5l.94-2.06 2.06-.94-2.06-.94L8.5 2.5l-.94 2.06-2.06.94zm10 10l.94 2.06.94-2.06 2.06-.94-2.06-.94-.94-2.06-.94 2.06-2.06.94z\"/><path d=\"M17.41 7.96l-1.37-1.37c-.4-.4-.92-.59-1.43-.59-.52 0-1.04.2-1.43.59L10.3 9.45l-7.72 7.72c-.78.78-.78 2.05 0 2.83L4 21.41c.39.39.9.59 1.41.59.51 0 1.02-.2 1.41-.59l7.78-7.78 2.81-2.81c.8-.78.8-2.07 0-2.86zM5.41 20L4 18.59l7.72-7.72 1.47 1.35L5.41 20z\"/>\n",
              "  </svg>\n",
              "      </button>\n",
              "      \n",
              "  <style>\n",
              "    .colab-df-container {\n",
              "      display:flex;\n",
              "      flex-wrap:wrap;\n",
              "      gap: 12px;\n",
              "    }\n",
              "\n",
              "    .colab-df-convert {\n",
              "      background-color: #E8F0FE;\n",
              "      border: none;\n",
              "      border-radius: 50%;\n",
              "      cursor: pointer;\n",
              "      display: none;\n",
              "      fill: #1967D2;\n",
              "      height: 32px;\n",
              "      padding: 0 0 0 0;\n",
              "      width: 32px;\n",
              "    }\n",
              "\n",
              "    .colab-df-convert:hover {\n",
              "      background-color: #E2EBFA;\n",
              "      box-shadow: 0px 1px 2px rgba(60, 64, 67, 0.3), 0px 1px 3px 1px rgba(60, 64, 67, 0.15);\n",
              "      fill: #174EA6;\n",
              "    }\n",
              "\n",
              "    [theme=dark] .colab-df-convert {\n",
              "      background-color: #3B4455;\n",
              "      fill: #D2E3FC;\n",
              "    }\n",
              "\n",
              "    [theme=dark] .colab-df-convert:hover {\n",
              "      background-color: #434B5C;\n",
              "      box-shadow: 0px 1px 3px 1px rgba(0, 0, 0, 0.15);\n",
              "      filter: drop-shadow(0px 1px 2px rgba(0, 0, 0, 0.3));\n",
              "      fill: #FFFFFF;\n",
              "    }\n",
              "  </style>\n",
              "\n",
              "      <script>\n",
              "        const buttonEl =\n",
              "          document.querySelector('#df-c5923072-0e28-40a5-ada2-8a06b1fb6ef4 button.colab-df-convert');\n",
              "        buttonEl.style.display =\n",
              "          google.colab.kernel.accessAllowed ? 'block' : 'none';\n",
              "\n",
              "        async function convertToInteractive(key) {\n",
              "          const element = document.querySelector('#df-c5923072-0e28-40a5-ada2-8a06b1fb6ef4');\n",
              "          const dataTable =\n",
              "            await google.colab.kernel.invokeFunction('convertToInteractive',\n",
              "                                                     [key], {});\n",
              "          if (!dataTable) return;\n",
              "\n",
              "          const docLinkHtml = 'Like what you see? Visit the ' +\n",
              "            '<a target=\"_blank\" href=https://colab.research.google.com/notebooks/data_table.ipynb>data table notebook</a>'\n",
              "            + ' to learn more about interactive tables.';\n",
              "          element.innerHTML = '';\n",
              "          dataTable['output_type'] = 'display_data';\n",
              "          await google.colab.output.renderOutput(dataTable, element);\n",
              "          const docLink = document.createElement('div');\n",
              "          docLink.innerHTML = docLinkHtml;\n",
              "          element.appendChild(docLink);\n",
              "        }\n",
              "      </script>\n",
              "    </div>\n",
              "  </div>\n",
              "  "
            ]
          },
          "metadata": {},
          "execution_count": 3
        }
      ]
    },
    {
      "cell_type": "code",
      "source": [
        "df.info()"
      ],
      "metadata": {
        "colab": {
          "base_uri": "https://localhost:8080/"
        },
        "id": "cff2YnbT-yws",
        "outputId": "4b9cae6b-8dba-4dc2-9896-d425c5383c6d"
      },
      "execution_count": 4,
      "outputs": [
        {
          "output_type": "stream",
          "name": "stdout",
          "text": [
            "<class 'pandas.core.frame.DataFrame'>\n",
            "RangeIndex: 918 entries, 0 to 917\n",
            "Data columns (total 12 columns):\n",
            " #   Column          Non-Null Count  Dtype  \n",
            "---  ------          --------------  -----  \n",
            " 0   Age             918 non-null    int64  \n",
            " 1   Sex             918 non-null    object \n",
            " 2   ChestPainType   918 non-null    object \n",
            " 3   RestingBP       918 non-null    int64  \n",
            " 4   Cholesterol     918 non-null    int64  \n",
            " 5   FastingBS       918 non-null    int64  \n",
            " 6   RestingECG      918 non-null    object \n",
            " 7   MaxHR           918 non-null    int64  \n",
            " 8   ExerciseAngina  918 non-null    object \n",
            " 9   Oldpeak         918 non-null    float64\n",
            " 10  ST_Slope        918 non-null    object \n",
            " 11  HeartDisease    918 non-null    int64  \n",
            "dtypes: float64(1), int64(6), object(5)\n",
            "memory usage: 86.2+ KB\n"
          ]
        }
      ]
    },
    {
      "cell_type": "code",
      "source": [
        "df.isnull().sum()"
      ],
      "metadata": {
        "colab": {
          "base_uri": "https://localhost:8080/"
        },
        "id": "cBiHPsBBGw-6",
        "outputId": "1dfda920-21bb-4d22-f28c-f6f31ca96a6b"
      },
      "execution_count": 5,
      "outputs": [
        {
          "output_type": "execute_result",
          "data": {
            "text/plain": [
              "Age               0\n",
              "Sex               0\n",
              "ChestPainType     0\n",
              "RestingBP         0\n",
              "Cholesterol       0\n",
              "FastingBS         0\n",
              "RestingECG        0\n",
              "MaxHR             0\n",
              "ExerciseAngina    0\n",
              "Oldpeak           0\n",
              "ST_Slope          0\n",
              "HeartDisease      0\n",
              "dtype: int64"
            ]
          },
          "metadata": {},
          "execution_count": 5
        }
      ]
    },
    {
      "cell_type": "markdown",
      "source": [
        "- Bộ dữ liệu không có missing values."
      ],
      "metadata": {
        "id": "J3RxTzjD-Xyl"
      }
    },
    {
      "cell_type": "markdown",
      "source": [
        "Ép kiểu biến FastingBS từ int sang object."
      ],
      "metadata": {
        "id": "ebnOOnd6Jd0M"
      }
    },
    {
      "cell_type": "code",
      "source": [
        "df['FastingBS'] = df['FastingBS'].astype(object)"
      ],
      "metadata": {
        "id": "Kr8tY9ThJCeW"
      },
      "execution_count": 6,
      "outputs": []
    },
    {
      "cell_type": "markdown",
      "source": [
        "Thống kê mô tả."
      ],
      "metadata": {
        "id": "ZOJPwnmmy7YF"
      }
    },
    {
      "cell_type": "code",
      "source": [
        "df.describe()"
      ],
      "metadata": {
        "colab": {
          "base_uri": "https://localhost:8080/",
          "height": 300
        },
        "id": "aPPmo_gexgS_",
        "outputId": "438b1b37-ea13-47ee-d704-a4f9c02ff34f"
      },
      "execution_count": 7,
      "outputs": [
        {
          "output_type": "execute_result",
          "data": {
            "text/plain": [
              "              Age   RestingBP  Cholesterol       MaxHR     Oldpeak  \\\n",
              "count  918.000000  918.000000   918.000000  918.000000  918.000000   \n",
              "mean    53.510893  132.396514   198.799564  136.809368    0.887364   \n",
              "std      9.432617   18.514154   109.384145   25.460334    1.066570   \n",
              "min     28.000000    0.000000     0.000000   60.000000   -2.600000   \n",
              "25%     47.000000  120.000000   173.250000  120.000000    0.000000   \n",
              "50%     54.000000  130.000000   223.000000  138.000000    0.600000   \n",
              "75%     60.000000  140.000000   267.000000  156.000000    1.500000   \n",
              "max     77.000000  200.000000   603.000000  202.000000    6.200000   \n",
              "\n",
              "       HeartDisease  \n",
              "count    918.000000  \n",
              "mean       0.553377  \n",
              "std        0.497414  \n",
              "min        0.000000  \n",
              "25%        0.000000  \n",
              "50%        1.000000  \n",
              "75%        1.000000  \n",
              "max        1.000000  "
            ],
            "text/html": [
              "\n",
              "  <div id=\"df-db6df386-9e61-488e-95ae-aca8464fac61\">\n",
              "    <div class=\"colab-df-container\">\n",
              "      <div>\n",
              "<style scoped>\n",
              "    .dataframe tbody tr th:only-of-type {\n",
              "        vertical-align: middle;\n",
              "    }\n",
              "\n",
              "    .dataframe tbody tr th {\n",
              "        vertical-align: top;\n",
              "    }\n",
              "\n",
              "    .dataframe thead th {\n",
              "        text-align: right;\n",
              "    }\n",
              "</style>\n",
              "<table border=\"1\" class=\"dataframe\">\n",
              "  <thead>\n",
              "    <tr style=\"text-align: right;\">\n",
              "      <th></th>\n",
              "      <th>Age</th>\n",
              "      <th>RestingBP</th>\n",
              "      <th>Cholesterol</th>\n",
              "      <th>MaxHR</th>\n",
              "      <th>Oldpeak</th>\n",
              "      <th>HeartDisease</th>\n",
              "    </tr>\n",
              "  </thead>\n",
              "  <tbody>\n",
              "    <tr>\n",
              "      <th>count</th>\n",
              "      <td>918.000000</td>\n",
              "      <td>918.000000</td>\n",
              "      <td>918.000000</td>\n",
              "      <td>918.000000</td>\n",
              "      <td>918.000000</td>\n",
              "      <td>918.000000</td>\n",
              "    </tr>\n",
              "    <tr>\n",
              "      <th>mean</th>\n",
              "      <td>53.510893</td>\n",
              "      <td>132.396514</td>\n",
              "      <td>198.799564</td>\n",
              "      <td>136.809368</td>\n",
              "      <td>0.887364</td>\n",
              "      <td>0.553377</td>\n",
              "    </tr>\n",
              "    <tr>\n",
              "      <th>std</th>\n",
              "      <td>9.432617</td>\n",
              "      <td>18.514154</td>\n",
              "      <td>109.384145</td>\n",
              "      <td>25.460334</td>\n",
              "      <td>1.066570</td>\n",
              "      <td>0.497414</td>\n",
              "    </tr>\n",
              "    <tr>\n",
              "      <th>min</th>\n",
              "      <td>28.000000</td>\n",
              "      <td>0.000000</td>\n",
              "      <td>0.000000</td>\n",
              "      <td>60.000000</td>\n",
              "      <td>-2.600000</td>\n",
              "      <td>0.000000</td>\n",
              "    </tr>\n",
              "    <tr>\n",
              "      <th>25%</th>\n",
              "      <td>47.000000</td>\n",
              "      <td>120.000000</td>\n",
              "      <td>173.250000</td>\n",
              "      <td>120.000000</td>\n",
              "      <td>0.000000</td>\n",
              "      <td>0.000000</td>\n",
              "    </tr>\n",
              "    <tr>\n",
              "      <th>50%</th>\n",
              "      <td>54.000000</td>\n",
              "      <td>130.000000</td>\n",
              "      <td>223.000000</td>\n",
              "      <td>138.000000</td>\n",
              "      <td>0.600000</td>\n",
              "      <td>1.000000</td>\n",
              "    </tr>\n",
              "    <tr>\n",
              "      <th>75%</th>\n",
              "      <td>60.000000</td>\n",
              "      <td>140.000000</td>\n",
              "      <td>267.000000</td>\n",
              "      <td>156.000000</td>\n",
              "      <td>1.500000</td>\n",
              "      <td>1.000000</td>\n",
              "    </tr>\n",
              "    <tr>\n",
              "      <th>max</th>\n",
              "      <td>77.000000</td>\n",
              "      <td>200.000000</td>\n",
              "      <td>603.000000</td>\n",
              "      <td>202.000000</td>\n",
              "      <td>6.200000</td>\n",
              "      <td>1.000000</td>\n",
              "    </tr>\n",
              "  </tbody>\n",
              "</table>\n",
              "</div>\n",
              "      <button class=\"colab-df-convert\" onclick=\"convertToInteractive('df-db6df386-9e61-488e-95ae-aca8464fac61')\"\n",
              "              title=\"Convert this dataframe to an interactive table.\"\n",
              "              style=\"display:none;\">\n",
              "        \n",
              "  <svg xmlns=\"http://www.w3.org/2000/svg\" height=\"24px\"viewBox=\"0 0 24 24\"\n",
              "       width=\"24px\">\n",
              "    <path d=\"M0 0h24v24H0V0z\" fill=\"none\"/>\n",
              "    <path d=\"M18.56 5.44l.94 2.06.94-2.06 2.06-.94-2.06-.94-.94-2.06-.94 2.06-2.06.94zm-11 1L8.5 8.5l.94-2.06 2.06-.94-2.06-.94L8.5 2.5l-.94 2.06-2.06.94zm10 10l.94 2.06.94-2.06 2.06-.94-2.06-.94-.94-2.06-.94 2.06-2.06.94z\"/><path d=\"M17.41 7.96l-1.37-1.37c-.4-.4-.92-.59-1.43-.59-.52 0-1.04.2-1.43.59L10.3 9.45l-7.72 7.72c-.78.78-.78 2.05 0 2.83L4 21.41c.39.39.9.59 1.41.59.51 0 1.02-.2 1.41-.59l7.78-7.78 2.81-2.81c.8-.78.8-2.07 0-2.86zM5.41 20L4 18.59l7.72-7.72 1.47 1.35L5.41 20z\"/>\n",
              "  </svg>\n",
              "      </button>\n",
              "      \n",
              "  <style>\n",
              "    .colab-df-container {\n",
              "      display:flex;\n",
              "      flex-wrap:wrap;\n",
              "      gap: 12px;\n",
              "    }\n",
              "\n",
              "    .colab-df-convert {\n",
              "      background-color: #E8F0FE;\n",
              "      border: none;\n",
              "      border-radius: 50%;\n",
              "      cursor: pointer;\n",
              "      display: none;\n",
              "      fill: #1967D2;\n",
              "      height: 32px;\n",
              "      padding: 0 0 0 0;\n",
              "      width: 32px;\n",
              "    }\n",
              "\n",
              "    .colab-df-convert:hover {\n",
              "      background-color: #E2EBFA;\n",
              "      box-shadow: 0px 1px 2px rgba(60, 64, 67, 0.3), 0px 1px 3px 1px rgba(60, 64, 67, 0.15);\n",
              "      fill: #174EA6;\n",
              "    }\n",
              "\n",
              "    [theme=dark] .colab-df-convert {\n",
              "      background-color: #3B4455;\n",
              "      fill: #D2E3FC;\n",
              "    }\n",
              "\n",
              "    [theme=dark] .colab-df-convert:hover {\n",
              "      background-color: #434B5C;\n",
              "      box-shadow: 0px 1px 3px 1px rgba(0, 0, 0, 0.15);\n",
              "      filter: drop-shadow(0px 1px 2px rgba(0, 0, 0, 0.3));\n",
              "      fill: #FFFFFF;\n",
              "    }\n",
              "  </style>\n",
              "\n",
              "      <script>\n",
              "        const buttonEl =\n",
              "          document.querySelector('#df-db6df386-9e61-488e-95ae-aca8464fac61 button.colab-df-convert');\n",
              "        buttonEl.style.display =\n",
              "          google.colab.kernel.accessAllowed ? 'block' : 'none';\n",
              "\n",
              "        async function convertToInteractive(key) {\n",
              "          const element = document.querySelector('#df-db6df386-9e61-488e-95ae-aca8464fac61');\n",
              "          const dataTable =\n",
              "            await google.colab.kernel.invokeFunction('convertToInteractive',\n",
              "                                                     [key], {});\n",
              "          if (!dataTable) return;\n",
              "\n",
              "          const docLinkHtml = 'Like what you see? Visit the ' +\n",
              "            '<a target=\"_blank\" href=https://colab.research.google.com/notebooks/data_table.ipynb>data table notebook</a>'\n",
              "            + ' to learn more about interactive tables.';\n",
              "          element.innerHTML = '';\n",
              "          dataTable['output_type'] = 'display_data';\n",
              "          await google.colab.output.renderOutput(dataTable, element);\n",
              "          const docLink = document.createElement('div');\n",
              "          docLink.innerHTML = docLinkHtml;\n",
              "          element.appendChild(docLink);\n",
              "        }\n",
              "      </script>\n",
              "    </div>\n",
              "  </div>\n",
              "  "
            ]
          },
          "metadata": {},
          "execution_count": 7
        }
      ]
    },
    {
      "cell_type": "markdown",
      "source": [
        "- Kết quả thống kê cho thấy đơn vị của các biến này có sự khác biệt lớn. Mean thấp nhất là 0.89 và cao nhất là 198.80.\n",
        "\n",
        "- Ta cần chuẩn hóa các biến để loại bỏ sử khác biệt về đơn vị."
      ],
      "metadata": {
        "id": "-kGWza7dywS8"
      }
    },
    {
      "cell_type": "markdown",
      "source": [
        "Lấy ra các biến phân loại."
      ],
      "metadata": {
        "id": "VCVc-gKhJnQZ"
      }
    },
    {
      "cell_type": "code",
      "source": [
        "cat_cols = list(df.select_dtypes(include=['object']))\n",
        "print(cat_cols)"
      ],
      "metadata": {
        "colab": {
          "base_uri": "https://localhost:8080/"
        },
        "id": "If9T_8Ij_1ij",
        "outputId": "345ff0fe-40f6-410b-d784-0763d8c26b44"
      },
      "execution_count": 8,
      "outputs": [
        {
          "output_type": "stream",
          "name": "stdout",
          "text": [
            "['Sex', 'ChestPainType', 'FastingBS', 'RestingECG', 'ExerciseAngina', 'ST_Slope']\n"
          ]
        }
      ]
    },
    {
      "cell_type": "markdown",
      "source": [
        "Lấy ra các biến liên tục."
      ],
      "metadata": {
        "id": "F2zxdPL1MIqE"
      }
    },
    {
      "cell_type": "code",
      "source": [
        "num_cols = list(df.select_dtypes(include=['int64', 'float64']))\n",
        "num_cols.remove(\"HeartDisease\")\n",
        "print(num_cols)"
      ],
      "metadata": {
        "colab": {
          "base_uri": "https://localhost:8080/"
        },
        "id": "7J3P9RCBJuXA",
        "outputId": "a063ac63-f6ee-4880-b8b1-0b351503ed85"
      },
      "execution_count": 9,
      "outputs": [
        {
          "output_type": "stream",
          "name": "stdout",
          "text": [
            "['Age', 'RestingBP', 'Cholesterol', 'MaxHR', 'Oldpeak']\n"
          ]
        }
      ]
    },
    {
      "cell_type": "markdown",
      "source": [
        "Dùng biểu đồ histogram để xem phân phối của biến liên tục."
      ],
      "metadata": {
        "id": "wUsAdRoBdBrT"
      }
    },
    {
      "cell_type": "code",
      "source": [
        "for i in num_cols:\n",
        "  sns.histplot(x = df[i], data = df, kde=True, bins=10)\n",
        "  plt.show()\n"
      ],
      "metadata": {
        "colab": {
          "base_uri": "https://localhost:8080/",
          "height": 1000
        },
        "id": "_fsokpPPM8l4",
        "outputId": "08437b28-f410-4619-c4a8-cc6040db1487"
      },
      "execution_count": 10,
      "outputs": [
        {
          "output_type": "display_data",
          "data": {
            "text/plain": [
              "<Figure size 432x288 with 1 Axes>"
            ],
            "image/png": "[encoded data removed]"
          },
          "metadata": {
            "needs_background": "light"
          }
        },
        {
          "output_type": "display_data",
          "data": {
            "text/plain": [
              "<Figure size 432x288 with 1 Axes>"
            ],
            "image/png": "[encoded data removed]"
          },
          "metadata": {
            "needs_background": "light"
          }
        },
        {
          "output_type": "display_data",
          "data": {
            "text/plain": [
              "<Figure size 432x288 with 1 Axes>"
            ],
            "image/png": "[encoded data removed]"
          },
          "metadata": {
            "needs_background": "light"
          }
        },
        {
          "output_type": "display_data",
          "data": {
            "text/plain": [
              "<Figure size 432x288 with 1 Axes>"
            ],
            "image/png": "[encoded data removed]"
          },
          "metadata": {
            "needs_background": "light"
          }
        },
        {
          "output_type": "display_data",
          "data": {
            "text/plain": [
              "<Figure size 432x288 with 1 Axes>"
            ],
            "image/png": "[encoded data removed]"
          },
          "metadata": {
            "needs_background": "light"
          }
        }
      ]
    },
    {
      "cell_type": "markdown",
      "source": [
        "- Giá trị 0 nằm trong 2 biến RestingBP và Cholesterol được xem là giá trị nhiễu.\n",
        "\n",
        "- Thay giá trị 0 trong 2 biến này bằng median.\n"
      ],
      "metadata": {
        "id": "3OsSlPRmPvri"
      }
    },
    {
      "cell_type": "code",
      "source": [
        "df['Cholesterol'].replace(0, df['Cholesterol'].median(), inplace = True)\n",
        "df['RestingBP'].replace(0, df['RestingBP'].median(), inplace = True)"
      ],
      "metadata": {
        "id": "4_oXA-ckQpS2"
      },
      "execution_count": 11,
      "outputs": []
    },
    {
      "cell_type": "markdown",
      "source": [
        "Dùng biểu đồ boxplot để kiểm tra outliers của biến liên tục."
      ],
      "metadata": {
        "id": "m9Z5kWjjdQc4"
      }
    },
    {
      "cell_type": "code",
      "source": [
        "for i in num_cols:\n",
        "  sns.boxplot(x = df[i], data = df)\n",
        "  plt.show()\n"
      ],
      "metadata": {
        "colab": {
          "base_uri": "https://localhost:8080/",
          "height": 1000
        },
        "id": "2q54lb2LcR0P",
        "outputId": "521d8e72-afb4-461a-f379-9fc7f10891fe"
      },
      "execution_count": 12,
      "outputs": [
        {
          "output_type": "display_data",
          "data": {
            "text/plain": [
              "<Figure size 432x288 with 1 Axes>"
            ],
            "image/png": "[encoded data removed]"
          },
          "metadata": {
            "needs_background": "light"
          }
        },
        {
          "output_type": "display_data",
          "data": {
            "text/plain": [
              "<Figure size 432x288 with 1 Axes>"
            ],
            "image/png": "[encoded data removed]"
          },
          "metadata": {
            "needs_background": "light"
          }
        },
        {
          "output_type": "display_data",
          "data": {
            "text/plain": [
              "<Figure size 432x288 with 1 Axes>"
            ],
            "image/png": "[encoded data removed]"
          },
          "metadata": {
            "needs_background": "light"
          }
        },
        {
          "output_type": "display_data",
          "data": {
            "text/plain": [
              "<Figure size 432x288 with 1 Axes>"
            ],
            "image/png": "[encoded data removed]"
          },
          "metadata": {
            "needs_background": "light"
          }
        },
        {
          "output_type": "display_data",
          "data": {
            "text/plain": [
              "<Figure size 432x288 with 1 Axes>"
            ],
            "image/png": "[encoded data removed]"
          },
          "metadata": {
            "needs_background": "light"
          }
        }
      ]
    },
    {
      "cell_type": "markdown",
      "source": [
        "- Outliers nằm ở các biến RestingBP, Cholesterol, MaxHR và Oldpeak."
      ],
      "metadata": {
        "id": "SkxViTKMdX1D"
      }
    },
    {
      "cell_type": "markdown",
      "source": [
        "Dùng biểu đồ heatmap để kiểm tra mối tương quan giữa các biến liên tục."
      ],
      "metadata": {
        "id": "ACuN7-dPo0YR"
      }
    },
    {
      "cell_type": "code",
      "source": [
        "num = df.select_dtypes(include=['int64', 'float64'])\n",
        "num_corr = num.corr()\n",
        "\n",
        "sns.heatmap(num_corr[num_corr > 0.9], annot=True, fmt='.1f')\n",
        "plt.show()"
      ],
      "metadata": {
        "colab": {
          "base_uri": "https://localhost:8080/",
          "height": 327
        },
        "id": "BONlqtyeoztq",
        "outputId": "da16cdd3-d3fb-49a0-bdcf-8aa95ad917c1"
      },
      "execution_count": 13,
      "outputs": [
        {
          "output_type": "display_data",
          "data": {
            "text/plain": [
              "<Figure size 432x288 with 2 Axes>"
            ],
            "image/png": "[encoded data removed]"
          },
          "metadata": {
            "needs_background": "light"
          }
        }
      ]
    },
    {
      "cell_type": "markdown",
      "source": [
        "- Không có mối tương quan cao giữa các biến với nhau nên không cần loại bỏ biến nào."
      ],
      "metadata": {
        "id": "iGdyyDihpB2Q"
      }
    },
    {
      "cell_type": "markdown",
      "source": [
        "Dùng biểu đồ barchart để xem phân phối của biến phân loại ."
      ],
      "metadata": {
        "id": "kKbLHZSy4_T0"
      }
    },
    {
      "cell_type": "code",
      "source": [
        "for i in cat_cols:\n",
        "  sns.countplot(x = df[i], hue=\"HeartDisease\", data = df)\n",
        "  plt.show()"
      ],
      "metadata": {
        "colab": {
          "base_uri": "https://localhost:8080/",
          "height": 1000
        },
        "id": "lEgpTR9R0is6",
        "outputId": "c6236e06-182c-4389-f4ba-09a99350546e"
      },
      "execution_count": 14,
      "outputs": [
        {
          "output_type": "display_data",
          "data": {
            "text/plain": [
              "<Figure size 432x288 with 1 Axes>"
            ],
            "image/png": "[encoded data removed]"
          },
          "metadata": {
            "needs_background": "light"
          }
        },
        {
          "output_type": "display_data",
          "data": {
            "text/plain": [
              "<Figure size 432x288 with 1 Axes>"
            ],
            "image/png": "[encoded data removed]"
          },
          "metadata": {
            "needs_background": "light"
          }
        },
        {
          "output_type": "display_data",
          "data": {
            "text/plain": [
              "<Figure size 432x288 with 1 Axes>"
            ],
            "image/png": "[encoded data removed]"
          },
          "metadata": {
            "needs_background": "light"
          }
        },
        {
          "output_type": "display_data",
          "data": {
            "text/plain": [
              "<Figure size 432x288 with 1 Axes>"
            ],
            "image/png": "[encoded data removed]"
          },
          "metadata": {
            "needs_background": "light"
          }
        },
        {
          "output_type": "display_data",
          "data": {
            "text/plain": [
              "<Figure size 432x288 with 1 Axes>"
            ],
            "image/png": "[encoded data removed]"
          },
          "metadata": {
            "needs_background": "light"
          }
        },
        {
          "output_type": "display_data",
          "data": {
            "text/plain": [
              "<Figure size 432x288 with 1 Axes>"
            ],
            "image/png": "[encoded data removed]"
          },
          "metadata": {
            "needs_background": "light"
          }
        }
      ]
    },
    {
      "cell_type": "markdown",
      "source": [
        "- Tỷ lệ bình thường/suy tim có sự khác biệt khá cáo tại các nhãn trong các biến này."
      ],
      "metadata": {
        "id": "K8JRBzGO5C_u"
      }
    },
    {
      "cell_type": "markdown",
      "source": [
        "## **P3: Chọn độ đo**"
      ],
      "metadata": {
        "id": "T89Y4uEg7Y8z"
      }
    },
    {
      "cell_type": "markdown",
      "source": [
        "Kiểm tra phân phối của biến mục tiêu (HeartDisease)."
      ],
      "metadata": {
        "id": "jWQSMFN26sps"
      }
    },
    {
      "cell_type": "code",
      "source": [
        "sns.countplot(x = \"HeartDisease\", data = df)\n",
        "plt.show()"
      ],
      "metadata": {
        "colab": {
          "base_uri": "https://localhost:8080/",
          "height": 279
        },
        "id": "g_3HnXdx6r3d",
        "outputId": "4f6356bc-ed2f-4d5a-af44-1735e8829efc"
      },
      "execution_count": 15,
      "outputs": [
        {
          "output_type": "display_data",
          "data": {
            "text/plain": [
              "<Figure size 432x288 with 1 Axes>"
            ],
            "image/png": "[encoded data removed]"
          },
          "metadata": {
            "needs_background": "light"
          }
        }
      ]
    },
    {
      "cell_type": "markdown",
      "source": [
        "- Các nhãn trong biến mục tiêu không bị chênh lệch quá nhiều cho thấy dữ liệu chỉ bị mất cân bằng nhẹ, không đáng kể.\n",
        "\n",
        "- Có 2 trường hợp quan trọng:\n",
        "  - Dương tính giả (FP): Những người bình thường nhưng dự đoán ra suy tim.\n",
        "  - Âm tính giả (FN): Những người suy tim nhưng dự đoán ra bình thường.\n",
        "\n",
        "- Đây đều là 2 người hợp nghiêm trọng nên tôi sẽ chọn độ đo F1 score cho bài toán này."
      ],
      "metadata": {
        "id": "Vlexv9wP7iaO"
      }
    },
    {
      "cell_type": "markdown",
      "source": [
        "## **P4: Chia train - test**"
      ],
      "metadata": {
        "id": "gSQw0s4T8eW_"
      }
    },
    {
      "cell_type": "markdown",
      "source": [
        "Áp dụng phương pháp lấy mẫu phân tầng giúp cân bằng tỷ lệ bình thường/suy tim trên cả train và test."
      ],
      "metadata": {
        "id": "mMWfOJ-q-KL-"
      }
    },
    {
      "cell_type": "code",
      "source": [
        "df_train, df_test = train_test_split(df, test_size = 0.3, stratify = df['HeartDisease'], random_state = 1)\n",
        "X_train = df_train.copy()\n",
        "y_train = X_train.pop(\"HeartDisease\")\n",
        "\n",
        "X_test = df_test.copy()\n",
        "y_test = X_test.pop(\"HeartDisease\")"
      ],
      "metadata": {
        "id": "hn0E_kC4kfZT"
      },
      "execution_count": 16,
      "outputs": []
    },
    {
      "cell_type": "markdown",
      "source": [
        "Áp dụng phương pháp cross validation với k =5 lên tập train để chọn siêu tham số.\n",
        "\n",
        "Trong đó 4 phần để train và 1 phần để val. \n",
        "\n",
        "![](https://drive.google.com/uc?id=1vrnXNYcja7HAKOEygjuKidT3KpFn2bxw)\n"
      ],
      "metadata": {
        "id": "InyOuxkryvA8"
      }
    },
    {
      "cell_type": "markdown",
      "source": [
        "## **P5: Train model**"
      ],
      "metadata": {
        "id": "foTS7XYj93GZ"
      }
    },
    {
      "cell_type": "markdown",
      "source": [
        "Pipeline xử lý cho biến phân loại.\n",
        "\n",
        "Encode biến phân loại theo phương pháp one hot encoding.\n",
        "\n",
        "![](https://drive.google.com/uc?id=1ziL--QeMH6LT94S9z2NKzJ6-6TUKCblf)\n",
        "\n"
      ],
      "metadata": {
        "id": "rjLImUwNtVZg"
      }
    },
    {
      "cell_type": "code",
      "source": [
        "cat_pl = Pipeline(\n",
        "    steps = [\n",
        "           ('onehot', OneHotEncoder())\n",
        "    ]\n",
        ")"
      ],
      "metadata": {
        "id": "nFQesKt_dnCX"
      },
      "execution_count": 17,
      "outputs": []
    },
    {
      "cell_type": "markdown",
      "source": [
        "Pipeline xử lý cho biến liên tục.\n",
        "\n",
        "Scale biến liên tục theo phương pháp MinMax scaler.\n",
        "\n",
        "![](https://drive.google.com/uc?id=1LvSdwR4xJKGoi5WAmD61Lu_tGS9czf0u)"
      ],
      "metadata": {
        "id": "nttMTIBPfOeW"
      }
    },
    {
      "cell_type": "code",
      "source": [
        "num_pl = Pipeline(\n",
        "    steps = [\n",
        "           ('scaler', MinMaxScaler())\n",
        "    ]\n",
        ")"
      ],
      "metadata": {
        "id": "_20VAeC7fQOj"
      },
      "execution_count": 18,
      "outputs": []
    },
    {
      "cell_type": "markdown",
      "source": [
        "Tạo pipeline tiền xử lý dữ liệu hoàn chỉnh."
      ],
      "metadata": {
        "id": "WPSCkQVIp5Tl"
      }
    },
    {
      "cell_type": "code",
      "source": [
        "preprocessor = ColumnTransformer(\n",
        "    transformers = [\n",
        "        ('cat', cat_pl, cat_cols),\n",
        "        ('num', num_pl, num_cols)\n",
        "    ]\n",
        ")"
      ],
      "metadata": {
        "id": "v8UdOsoT7Fy2"
      },
      "execution_count": 19,
      "outputs": []
    },
    {
      "cell_type": "markdown",
      "source": [
        "**Thuật toán Random Forest**\n",
        "\n",
        "- Với tập D, cần train các cây 1 cách độc lập.\n",
        "\n",
        "- Với cây thứ i: lấy mẫu có trùng lặp từ mẫu ban đầu (Di = D).\n",
        "\n",
        "- Phát triển cây thứ i bằng tập Di.\n",
        "\n",
        "- Tại mỗi đỉnh:\n",
        "\n",
        "  - Chọn ngẫu nhiên 1 tập nhỏ các thuộc tính S.\n",
        "  -\tPhát triển các nhánh con dựa trên tập S.\n",
        "\n",
        "- Cho cây phát triển hết cỡ, không cắt tỉa."
      ],
      "metadata": {
        "id": "8MB1Mg4F1GB6"
      }
    },
    {
      "cell_type": "markdown",
      "source": [
        "Tạo pipeline train mô hình Random Forest."
      ],
      "metadata": {
        "id": "II_qObXKqqmV"
      }
    },
    {
      "cell_type": "code",
      "source": [
        "rf_pl = Pipeline(\n",
        "    steps = [\n",
        "            (\"preprocessor\", preprocessor), \n",
        "            (\"rf\", RandomForestClassifier(random_state = 1))\n",
        "    ]\n",
        ")"
      ],
      "metadata": {
        "id": "fD0Fy51ZjVA8"
      },
      "execution_count": 20,
      "outputs": []
    },
    {
      "cell_type": "markdown",
      "source": [
        "Train mô hình Random Forest với bộ siêu tham số:\n",
        "\n",
        "- max_features = 2, 3, 4\n",
        "- n_extimators = 50, 100, 300"
      ],
      "metadata": {
        "id": "ma2P_cYfeg5M"
      }
    },
    {
      "cell_type": "code",
      "source": [
        "rf_param_grid = {\n",
        "    'rf__max_features': [2, 3, 4],\n",
        "    'rf__n_estimators': [50, 100, 300]\n",
        "}"
      ],
      "metadata": {
        "id": "dKCggV-0fwzR"
      },
      "execution_count": 21,
      "outputs": []
    },
    {
      "cell_type": "code",
      "source": [
        "rf_model = GridSearchCV(\n",
        "    estimator = rf_pl,\n",
        "    param_grid = rf_param_grid,\n",
        "    scoring = 'f1',\n",
        "    cv = 5,\n",
        "    verbose = 3\n",
        ")"
      ],
      "metadata": {
        "id": "UCMd-CTGQ5Bo"
      },
      "execution_count": 22,
      "outputs": []
    },
    {
      "cell_type": "code",
      "source": [
        "rf_model.fit(X_train, y_train)"
      ],
      "metadata": {
        "colab": {
          "base_uri": "https://localhost:8080/"
        },
        "id": "vKdtH0ORTFIo",
        "outputId": "53ba06f7-1000-4622-b3ca-bf06806f8bf2"
      },
      "execution_count": 23,
      "outputs": [
        {
          "output_type": "stream",
          "name": "stdout",
          "text": [
            "Fitting 5 folds for each of 9 candidates, totalling 45 fits\n",
            "[CV 1/5] END rf__max_features=2, rf__n_estimators=50;, score=0.883 total time=   0.1s\n",
            "[CV 2/5] END rf__max_features=2, rf__n_estimators=50;, score=0.890 total time=   0.1s\n",
            "[CV 3/5] END rf__max_features=2, rf__n_estimators=50;, score=0.875 total time=   0.1s\n",
            "[CV 4/5] END rf__max_features=2, rf__n_estimators=50;, score=0.892 total time=   0.1s\n",
            "[CV 5/5] END rf__max_features=2, rf__n_estimators=50;, score=0.890 total time=   0.1s\n",
            "[CV 1/5] END rf__max_features=2, rf__n_estimators=100;, score=0.892 total time=   0.2s\n",
            "[CV 2/5] END rf__max_features=2, rf__n_estimators=100;, score=0.898 total time=   0.3s\n",
            "[CV 3/5] END rf__max_features=2, rf__n_estimators=100;, score=0.892 total time=   0.3s\n",
            "[CV 4/5] END rf__max_features=2, rf__n_estimators=100;, score=0.900 total time=   0.2s\n",
            "[CV 5/5] END rf__max_features=2, rf__n_estimators=100;, score=0.890 total time=   0.2s\n",
            "[CV 1/5] END rf__max_features=2, rf__n_estimators=300;, score=0.884 total time=   0.6s\n",
            "[CV 2/5] END rf__max_features=2, rf__n_estimators=300;, score=0.892 total time=   0.6s\n",
            "[CV 3/5] END rf__max_features=2, rf__n_estimators=300;, score=0.884 total time=   1.1s\n",
            "[CV 4/5] END rf__max_features=2, rf__n_estimators=300;, score=0.894 total time=   1.2s\n",
            "[CV 5/5] END rf__max_features=2, rf__n_estimators=300;, score=0.898 total time=   1.2s\n",
            "[CV 1/5] END rf__max_features=3, rf__n_estimators=50;, score=0.865 total time=   0.3s\n",
            "[CV 2/5] END rf__max_features=3, rf__n_estimators=50;, score=0.877 total time=   0.3s\n",
            "[CV 3/5] END rf__max_features=3, rf__n_estimators=50;, score=0.884 total time=   0.3s\n",
            "[CV 4/5] END rf__max_features=3, rf__n_estimators=50;, score=0.891 total time=   0.2s\n",
            "[CV 5/5] END rf__max_features=3, rf__n_estimators=50;, score=0.897 total time=   0.2s\n",
            "[CV 1/5] END rf__max_features=3, rf__n_estimators=100;, score=0.859 total time=   0.5s\n",
            "[CV 2/5] END rf__max_features=3, rf__n_estimators=100;, score=0.890 total time=   0.5s\n",
            "[CV 3/5] END rf__max_features=3, rf__n_estimators=100;, score=0.884 total time=   0.3s\n",
            "[CV 4/5] END rf__max_features=3, rf__n_estimators=100;, score=0.886 total time=   0.4s\n",
            "[CV 5/5] END rf__max_features=3, rf__n_estimators=100;, score=0.904 total time=   0.4s\n",
            "[CV 1/5] END rf__max_features=3, rf__n_estimators=300;, score=0.877 total time=   1.1s\n",
            "[CV 2/5] END rf__max_features=3, rf__n_estimators=300;, score=0.889 total time=   1.1s\n",
            "[CV 3/5] END rf__max_features=3, rf__n_estimators=300;, score=0.884 total time=   1.1s\n",
            "[CV 4/5] END rf__max_features=3, rf__n_estimators=300;, score=0.894 total time=   1.1s\n",
            "[CV 5/5] END rf__max_features=3, rf__n_estimators=300;, score=0.897 total time=   1.5s\n",
            "[CV 1/5] END rf__max_features=4, rf__n_estimators=50;, score=0.881 total time=   0.3s\n",
            "[CV 2/5] END rf__max_features=4, rf__n_estimators=50;, score=0.869 total time=   0.4s\n",
            "[CV 3/5] END rf__max_features=4, rf__n_estimators=50;, score=0.883 total time=   0.5s\n",
            "[CV 4/5] END rf__max_features=4, rf__n_estimators=50;, score=0.894 total time=   0.5s\n",
            "[CV 5/5] END rf__max_features=4, rf__n_estimators=50;, score=0.904 total time=   0.3s\n",
            "[CV 1/5] END rf__max_features=4, rf__n_estimators=100;, score=0.871 total time=   0.6s\n",
            "[CV 2/5] END rf__max_features=4, rf__n_estimators=100;, score=0.875 total time=   0.6s\n",
            "[CV 3/5] END rf__max_features=4, rf__n_estimators=100;, score=0.877 total time=   0.4s\n",
            "[CV 4/5] END rf__max_features=4, rf__n_estimators=100;, score=0.900 total time=   0.7s\n",
            "[CV 5/5] END rf__max_features=4, rf__n_estimators=100;, score=0.887 total time=   0.4s\n",
            "[CV 1/5] END rf__max_features=4, rf__n_estimators=300;, score=0.871 total time=   1.5s\n",
            "[CV 2/5] END rf__max_features=4, rf__n_estimators=300;, score=0.889 total time=   1.6s\n",
            "[CV 3/5] END rf__max_features=4, rf__n_estimators=300;, score=0.877 total time=   1.8s\n",
            "[CV 4/5] END rf__max_features=4, rf__n_estimators=300;, score=0.894 total time=   1.1s\n",
            "[CV 5/5] END rf__max_features=4, rf__n_estimators=300;, score=0.895 total time=   1.4s\n"
          ]
        },
        {
          "output_type": "execute_result",
          "data": {
            "text/plain": [
              "GridSearchCV(cv=5,\n",
              "             estimator=Pipeline(steps=[('preprocessor',\n",
              "                                        ColumnTransformer(transformers=[('cat',\n",
              "                                                                         Pipeline(steps=[('onehot',\n",
              "                                                                                          OneHotEncoder())]),\n",
              "                                                                         ['Sex',\n",
              "                                                                          'ChestPainType',\n",
              "                                                                          'FastingBS',\n",
              "                                                                          'RestingECG',\n",
              "                                                                          'ExerciseAngina',\n",
              "                                                                          'ST_Slope']),\n",
              "                                                                        ('num',\n",
              "                                                                         Pipeline(steps=[('scaler',\n",
              "                                                                                          MinMaxScaler())]),\n",
              "                                                                         ['Age',\n",
              "                                                                          'RestingBP',\n",
              "                                                                          'Cholesterol',\n",
              "                                                                          'MaxHR',\n",
              "                                                                          'Oldpeak'])])),\n",
              "                                       ('rf',\n",
              "                                        RandomForestClassifier(random_state=1))]),\n",
              "             param_grid={'rf__max_features': [2, 3, 4],\n",
              "                         'rf__n_estimators': [50, 100, 300]},\n",
              "             scoring='f1', verbose=3)"
            ]
          },
          "metadata": {},
          "execution_count": 23
        }
      ]
    },
    {
      "cell_type": "code",
      "source": [
        "rf_model.best_params_"
      ],
      "metadata": {
        "colab": {
          "base_uri": "https://localhost:8080/"
        },
        "id": "iWGOR1Z6djPg",
        "outputId": "491f15fa-474b-4cdb-afd6-78d6b03e476b"
      },
      "execution_count": 24,
      "outputs": [
        {
          "output_type": "execute_result",
          "data": {
            "text/plain": [
              "{'rf__max_features': 2, 'rf__n_estimators': 100}"
            ]
          },
          "metadata": {},
          "execution_count": 24
        }
      ]
    },
    {
      "cell_type": "code",
      "source": [
        "rf_model.best_score_"
      ],
      "metadata": {
        "colab": {
          "base_uri": "https://localhost:8080/"
        },
        "id": "7djeLcoCdmzy",
        "outputId": "df97ed63-70f9-46f6-aa04-4454ba0ce06e"
      },
      "execution_count": 25,
      "outputs": [
        {
          "output_type": "execute_result",
          "data": {
            "text/plain": [
              "0.8944307852722725"
            ]
          },
          "metadata": {},
          "execution_count": 25
        }
      ]
    },
    {
      "cell_type": "markdown",
      "source": [
        "Đánh giá mô hình Random Forest."
      ],
      "metadata": {
        "id": "GLGTsKqrexP8"
      }
    },
    {
      "cell_type": "code",
      "source": [
        "y_pred = rf_model.predict(X_test)\n",
        "\n",
        "print('Confusion Matrix:\\n', confusion_matrix(y_test, y_pred))\n",
        "print('\\n')\n",
        "print('Classification Report:\\n', classification_report(y_test, y_pred))"
      ],
      "metadata": {
        "colab": {
          "base_uri": "https://localhost:8080/"
        },
        "id": "luIpVE7WeFOn",
        "outputId": "cf233b5f-b71a-4fde-eb35-586820b2af3d"
      },
      "execution_count": 26,
      "outputs": [
        {
          "output_type": "stream",
          "name": "stdout",
          "text": [
            "Confusion Matrix:\n",
            " [[ 95  28]\n",
            " [ 12 141]]\n",
            "\n",
            "\n",
            "Classification Report:\n",
            "               precision    recall  f1-score   support\n",
            "\n",
            "           0       0.89      0.77      0.83       123\n",
            "           1       0.83      0.92      0.88       153\n",
            "\n",
            "    accuracy                           0.86       276\n",
            "   macro avg       0.86      0.85      0.85       276\n",
            "weighted avg       0.86      0.86      0.85       276\n",
            "\n"
          ]
        }
      ]
    },
    {
      "cell_type": "markdown",
      "source": [
        "- F1 = 0.88 cho thấy mô hình Random Forest dự đoán khá tốt."
      ],
      "metadata": {
        "id": "hDL_-kqGlBZ_"
      }
    },
    {
      "cell_type": "markdown",
      "source": [
        "**Thuật toán Logistic Regression**\n",
        "\n",
        "- Được tiếp nối từ Linear Regression.\n",
        "\n",
        "![](https://drive.google.com/uc?id=1tU0Rutv8t3tqlvnsXO1-sein1L0jJeOf)\n",
        "\n",
        "- Hàm Sigmoid được sử dụng trong bài toán phân loại nhị phân.\n",
        "\n",
        "![](https://drive.google.com/uc?id=18qPCty6pnwvXLEvyBLljlfX2vUirZwmk)\n",
        "\n",
        "- Đầu ra của hàm Linear regression có dạng liên tục nên cần đưa vào hàm Sigmoid để tìm ra phân phối xác suất.\n",
        "\n",
        "![](https://drive.google.com/uc?id=1PnicRlEiYM5jSYy2Ng5yweY9qdTZBFDV)\n",
        "\n",
        "- Kết quả sẽ có giá trị từ 0 -> 1\n",
        "\n",
        "  - Giá trị từ 0 -> 0.5 sẽ chuyển thành 0\n",
        "  - Giá trị từ 0.5 -> 1 sẽ chuyển thành 1\n",
        "\n",
        "![](https://drive.google.com/uc?id=1iqgDmDfcBh0F2qROL_31D0phsHZ1gLil)"
      ],
      "metadata": {
        "id": "AsEetgbh2Whv"
      }
    },
    {
      "cell_type": "markdown",
      "source": [
        "Tạo pipeline train mô hình Logistic Regression."
      ],
      "metadata": {
        "id": "b-tsBK2dz3P7"
      }
    },
    {
      "cell_type": "code",
      "source": [
        "lr_pl = Pipeline(\n",
        "    steps = [\n",
        "            (\"preprocessor\", preprocessor), \n",
        "            (\"lr\", LogisticRegression(class_weight='balanced', random_state = 1))\n",
        "    ]\n",
        ")"
      ],
      "metadata": {
        "id": "ltaFLuikv333"
      },
      "execution_count": 27,
      "outputs": []
    },
    {
      "cell_type": "markdown",
      "source": [
        "Train mô hình Logistic Regression với bộ siêu tham số:\n",
        "\n",
        "- penalty = L1, L2, elasticnet"
      ],
      "metadata": {
        "id": "Mkx9H8WorNM2"
      }
    },
    {
      "cell_type": "code",
      "source": [
        "lr_param_grid = {\n",
        "    \"lr__penalty\" : [\"l1\", \"l2\", \"elasticnet\"]\n",
        "}"
      ],
      "metadata": {
        "id": "XwFkTACwvrAh"
      },
      "execution_count": 28,
      "outputs": []
    },
    {
      "cell_type": "code",
      "source": [
        "lr_model = GridSearchCV(\n",
        "    estimator = lr_pl,\n",
        "    param_grid = lr_param_grid,\n",
        "    scoring = 'f1',\n",
        "    cv = 5,\n",
        "    verbose = 3\n",
        ")"
      ],
      "metadata": {
        "id": "HLQqgpJnv53n"
      },
      "execution_count": 29,
      "outputs": []
    },
    {
      "cell_type": "code",
      "source": [
        "lr_model.fit(X_train, y_train)"
      ],
      "metadata": {
        "colab": {
          "base_uri": "https://localhost:8080/"
        },
        "id": "yELu7-GewTp-",
        "outputId": "930b9313-b1ec-4a86-c2c0-099485bac3fd"
      },
      "execution_count": 30,
      "outputs": [
        {
          "output_type": "stream",
          "name": "stdout",
          "text": [
            "Fitting 5 folds for each of 3 candidates, totalling 15 fits\n",
            "[CV 1/5] END ......................lr__penalty=l1;, score=nan total time=   0.1s\n",
            "[CV 2/5] END ......................lr__penalty=l1;, score=nan total time=   0.0s\n",
            "[CV 3/5] END ......................lr__penalty=l1;, score=nan total time=   0.0s\n",
            "[CV 4/5] END ......................lr__penalty=l1;, score=nan total time=   0.0s\n",
            "[CV 5/5] END ......................lr__penalty=l1;, score=nan total time=   0.0s\n",
            "[CV 1/5] END ....................lr__penalty=l2;, score=0.847 total time=   0.1s\n",
            "[CV 2/5] END ....................lr__penalty=l2;, score=0.873 total time=   0.1s\n",
            "[CV 3/5] END ....................lr__penalty=l2;, score=0.853 total time=   0.1s\n",
            "[CV 4/5] END ....................lr__penalty=l2;, score=0.913 total time=   0.1s\n",
            "[CV 5/5] END ....................lr__penalty=l2;, score=0.881 total time=   0.1s\n",
            "[CV 1/5] END ..............lr__penalty=elasticnet;, score=nan total time=   0.0s\n",
            "[CV 2/5] END ..............lr__penalty=elasticnet;, score=nan total time=   0.0s\n",
            "[CV 3/5] END ..............lr__penalty=elasticnet;, score=nan total time=   0.0s\n",
            "[CV 4/5] END ..............lr__penalty=elasticnet;, score=nan total time=   0.0s\n",
            "[CV 5/5] END ..............lr__penalty=elasticnet;, score=nan total time=   0.0s\n"
          ]
        },
        {
          "output_type": "stream",
          "name": "stderr",
          "text": [
            "/usr/local/lib/python3.7/dist-packages/sklearn/model_selection/_validation.py:372: FitFailedWarning: \n",
            "10 fits failed out of a total of 15.\n",
            "The score on these train-test partitions for these parameters will be set to nan.\n",
            "If these failures are not expected, you can try to debug them by setting error_score='raise'.\n",
            "\n",
            "Below are more details about the failures:\n",
            "--------------------------------------------------------------------------------\n",
            "5 fits failed with the following error:\n",
            "Traceback (most recent call last):\n",
            "  File \"/usr/local/lib/python3.7/dist-packages/sklearn/model_selection/_validation.py\", line 680, in _fit_and_score\n",
            "    estimator.fit(X_train, y_train, **fit_params)\n",
            "  File \"/usr/local/lib/python3.7/dist-packages/sklearn/pipeline.py\", line 394, in fit\n",
            "    self._final_estimator.fit(Xt, y, **fit_params_last_step)\n",
            "  File \"/usr/local/lib/python3.7/dist-packages/sklearn/linear_model/_logistic.py\", line 1461, in fit\n",
            "    solver = _check_solver(self.solver, self.penalty, self.dual)\n",
            "  File \"/usr/local/lib/python3.7/dist-packages/sklearn/linear_model/_logistic.py\", line 449, in _check_solver\n",
            "    % (solver, penalty)\n",
            "ValueError: Solver lbfgs supports only 'l2' or 'none' penalties, got l1 penalty.\n",
            "\n",
            "--------------------------------------------------------------------------------\n",
            "5 fits failed with the following error:\n",
            "Traceback (most recent call last):\n",
            "  File \"/usr/local/lib/python3.7/dist-packages/sklearn/model_selection/_validation.py\", line 680, in _fit_and_score\n",
            "    estimator.fit(X_train, y_train, **fit_params)\n",
            "  File \"/usr/local/lib/python3.7/dist-packages/sklearn/pipeline.py\", line 394, in fit\n",
            "    self._final_estimator.fit(Xt, y, **fit_params_last_step)\n",
            "  File \"/usr/local/lib/python3.7/dist-packages/sklearn/linear_model/_logistic.py\", line 1461, in fit\n",
            "    solver = _check_solver(self.solver, self.penalty, self.dual)\n",
            "  File \"/usr/local/lib/python3.7/dist-packages/sklearn/linear_model/_logistic.py\", line 449, in _check_solver\n",
            "    % (solver, penalty)\n",
            "ValueError: Solver lbfgs supports only 'l2' or 'none' penalties, got elasticnet penalty.\n",
            "\n",
            "  warnings.warn(some_fits_failed_message, FitFailedWarning)\n",
            "/usr/local/lib/python3.7/dist-packages/sklearn/model_selection/_search.py:972: UserWarning: One or more of the test scores are non-finite: [       nan 0.87355417        nan]\n",
            "  category=UserWarning,\n"
          ]
        },
        {
          "output_type": "execute_result",
          "data": {
            "text/plain": [
              "GridSearchCV(cv=5,\n",
              "             estimator=Pipeline(steps=[('preprocessor',\n",
              "                                        ColumnTransformer(transformers=[('cat',\n",
              "                                                                         Pipeline(steps=[('onehot',\n",
              "                                                                                          OneHotEncoder())]),\n",
              "                                                                         ['Sex',\n",
              "                                                                          'ChestPainType',\n",
              "                                                                          'FastingBS',\n",
              "                                                                          'RestingECG',\n",
              "                                                                          'ExerciseAngina',\n",
              "                                                                          'ST_Slope']),\n",
              "                                                                        ('num',\n",
              "                                                                         Pipeline(steps=[('scaler',\n",
              "                                                                                          MinMaxScaler())]),\n",
              "                                                                         ['Age',\n",
              "                                                                          'RestingBP',\n",
              "                                                                          'Cholesterol',\n",
              "                                                                          'MaxHR',\n",
              "                                                                          'Oldpeak'])])),\n",
              "                                       ('lr',\n",
              "                                        LogisticRegression(class_weight='balanced',\n",
              "                                                           random_state=1))]),\n",
              "             param_grid={'lr__penalty': ['l1', 'l2', 'elasticnet']},\n",
              "             scoring='f1', verbose=3)"
            ]
          },
          "metadata": {},
          "execution_count": 30
        }
      ]
    },
    {
      "cell_type": "code",
      "source": [
        "lr_model.best_params_"
      ],
      "metadata": {
        "id": "yTleyM1wwGv_",
        "colab": {
          "base_uri": "https://localhost:8080/"
        },
        "outputId": "11c40b14-a588-4852-a2a4-a62463081254"
      },
      "execution_count": 31,
      "outputs": [
        {
          "output_type": "execute_result",
          "data": {
            "text/plain": [
              "{'lr__penalty': 'l2'}"
            ]
          },
          "metadata": {},
          "execution_count": 31
        }
      ]
    },
    {
      "cell_type": "code",
      "source": [
        "lr_model.best_score_"
      ],
      "metadata": {
        "id": "Bdv_cxlRwJQG",
        "colab": {
          "base_uri": "https://localhost:8080/"
        },
        "outputId": "c6e552e5-e049-463e-bc1c-f065322bfa66"
      },
      "execution_count": 32,
      "outputs": [
        {
          "output_type": "execute_result",
          "data": {
            "text/plain": [
              "0.873554174273709"
            ]
          },
          "metadata": {},
          "execution_count": 32
        }
      ]
    },
    {
      "cell_type": "markdown",
      "source": [
        "Đánh giá mô hình Logistic Regression."
      ],
      "metadata": {
        "id": "0Q45WJzzbW3Z"
      }
    },
    {
      "cell_type": "code",
      "source": [
        "y_pred = lr_model.predict(X_test)\n",
        "\n",
        "print('Confusion Matrix:\\n', confusion_matrix(y_test, y_pred))\n",
        "print('\\n')\n",
        "print('Classification Report:\\n', classification_report(y_test, y_pred))"
      ],
      "metadata": {
        "id": "Kgd3UeGN6syW",
        "colab": {
          "base_uri": "https://localhost:8080/"
        },
        "outputId": "c9da6ef0-45bf-4a75-beb0-54f6ae65ebbd"
      },
      "execution_count": 33,
      "outputs": [
        {
          "output_type": "stream",
          "name": "stdout",
          "text": [
            "Confusion Matrix:\n",
            " [[ 96  27]\n",
            " [ 19 134]]\n",
            "\n",
            "\n",
            "Classification Report:\n",
            "               precision    recall  f1-score   support\n",
            "\n",
            "           0       0.83      0.78      0.81       123\n",
            "           1       0.83      0.88      0.85       153\n",
            "\n",
            "    accuracy                           0.83       276\n",
            "   macro avg       0.83      0.83      0.83       276\n",
            "weighted avg       0.83      0.83      0.83       276\n",
            "\n"
          ]
        }
      ]
    },
    {
      "cell_type": "markdown",
      "source": [
        "F1 = 0.85 cho thấy mô hình Logistic Regression dự đoán tệ hơn mô hình Random Forest."
      ],
      "metadata": {
        "id": "_0Qm6hwHlQrp"
      }
    },
    {
      "cell_type": "markdown",
      "source": [
        "## **P6: Kết luận**"
      ],
      "metadata": {
        "id": "JaEg5iBrmb54"
      }
    },
    {
      "cell_type": "markdown",
      "source": [
        "Trong project này, tôi đã thực hiện EDA để phân tích khám phá dữ liệu. Dựa trên kết quả EDA, tôi đã thực hiện tiền xử lý dữ liệu và train trên 2 mô hình là Random Forest và Logistic Regression. Kết quả sau khi đánh giá cho thấy Random Forest có thể dự đoán tốt người có nguy cơ suy tim với F1 = 0.88."
      ],
      "metadata": {
        "id": "Q8t4zkBPsG53"
      }
    },
    {
      "cell_type": "markdown",
      "source": [
        "## **P7: Reference**"
      ],
      "metadata": {
        "id": "QkM_ztISn3jD"
      }
    },
    {
      "cell_type": "markdown",
      "source": [
        "- <https://phamdinhkhanh.github.io/deepai-book/intro.html>\n",
        "\n",
        "- <https://sebastianraschka.com/blog/2016/model-evaluation-selection-part3.html>"
      ],
      "metadata": {
        "id": "pYgMRJ8Mn-FM"
      }
    }
  ]
}